{
 "cells": [
  {
   "cell_type": "markdown",
   "metadata": {},
   "source": [
    "### Downloading the Price datasets\n",
    "\n",
    "BTC: https://www.investing.com/crypto/bitcoin/historical-data <br>\n",
    "SNP500: https://www.investing.com/indices/us-spx-500-historical-data <br>\n",
    "VIX: https://www.investing.com/indices/volatility-s-p-500-historical-data <br>\n",
    "GOLD: https://www.investing.com/commodities/gold-historical-data"
   ]
  },
  {
   "cell_type": "code",
   "execution_count": null,
   "metadata": {
    "vscode": {
     "languageId": "plaintext"
    }
   },
   "outputs": [],
   "source": []
  }
 ],
 "metadata": {
  "language_info": {
   "name": "python"
  }
 },
 "nbformat": 4,
 "nbformat_minor": 2
}
