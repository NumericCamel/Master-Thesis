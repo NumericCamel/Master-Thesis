{
 "cells": [
  {
   "cell_type": "markdown",
   "metadata": {},
   "source": [
    "### Downloading the Price datasets\n",
    "\n",
    "\n",
    "##### TVL from DeFi Lama\n",
    "BTC: https://defillama.com/chain/Bitcoin <br>\n",
    "ETH: https://defillama.com/chain/Ethereum <br>\n",
    "SOL: https://defillama.com/chain/Solana\n",
    "\n",
    "##### Wikipedia Page Views\n",
    "ALL: https://pageviews.wmcloud.org/"
   ]
  },
  {
   "cell_type": "markdown",
   "metadata": {},
   "source": [
    "### **DEPENDENCIES**"
   ]
  },
  {
   "cell_type": "code",
   "execution_count": 209,
   "metadata": {},
   "outputs": [
    {
     "data": {
      "text/plain": [
       "<module 'sentiment_analyzer' from 'P:\\\\6. DSMA/99. Thesis/Github/thesis/scripts\\\\sentiment_analyzer.py'>"
      ]
     },
     "execution_count": 209,
     "metadata": {},
     "output_type": "execute_result"
    }
   ],
   "source": [
    "# Basic Stack \n",
    "import pandas as pd\n",
    "import numpy as np\n",
    "import matplotlib.pyplot as plt\n",
    "\n",
    "import sys\n",
    "import os\n",
    "import importlib\n",
    "\n",
    "# Changing the working directory\n",
    "path = ('P:/6. DSMA/99. Thesis/Github/thesis')\n",
    "os.chdir(path)\n",
    "\n",
    "# Import the module\n",
    "sys.path.append('P:/6. DSMA/99. Thesis/Github/thesis/scripts')\n",
    "import pipeline_crypto_prices\n",
    "from pipeline_crypto_prices import get_prices\n",
    "from camel import thesis_add_index\n",
    "import camel\n",
    "import sentiment_analyzer\n",
    "importlib.reload(pipeline_crypto_prices)\n",
    "importlib.reload(camel)\n",
    "importlib.reload(sentiment_analyzer)"
   ]
  },
  {
   "cell_type": "markdown",
   "metadata": {},
   "source": [
    "### **RAW DATA**"
   ]
  },
  {
   "cell_type": "markdown",
   "metadata": {},
   "source": [
    "##### 1. CRYPTO, INDEX, STOCK, AND VIX"
   ]
  },
  {
   "cell_type": "code",
   "execution_count": 203,
   "metadata": {},
   "outputs": [
    {
     "name": "stdout",
     "output_type": "stream",
     "text": [
      "Data for BTC-USD from 2018-01-01 to 2024-07-10 has been downloaded successfully\n",
      "Data for ETH-USD from 2018-01-01 to 2024-07-10 has been downloaded successfully\n",
      "Data for SOL-USD from 2018-01-01 to 2024-07-10 has been downloaded successfully\n",
      "Data for SNP from 2018-01-01 to 2024-07-10 has been downloaded successfully\n",
      "Data for Dow from 2018-01-01 to 2024-07-10 has been downloaded successfully\n",
      "Data for Vix from 2018-01-01 to 2024-07-10 has been downloaded successfully\n",
      "Data for Gold from 2018-01-01 to 2024-07-10 has been downloaded successfully\n",
      "Data for Oil from 2018-01-01 to 2024-07-10 has been downloaded successfully\n",
      "Data for NVDA from 2018-01-01 to 2024-07-10 has been downloaded successfully\n"
     ]
    }
   ],
   "source": [
    "btc = get_prices(start_date='2018-01-01')\n",
    "eth = get_prices('ETH-USD', start_date='2018-01-01')\n",
    "sol = get_prices('SOL-USD', start_date='2018-01-01')\n",
    "snp = get_prices('SNP', start_date='2018-01-01', percent_change=True, index=True)\n",
    "dow = get_prices('Dow', start_date='2018-01-01', percent_change=True, index=True)\n",
    "vix = get_prices('Vix', start_date='2018-01-01', percent_change=True, index=True).drop('Vix_Volume', axis=1)\n",
    "gold = get_prices('Gold', start_date='2018-01-01', percent_change=True, index=True)\n",
    "oil = get_prices('Oil', start_date='2018-01-01', percent_change=True, index=True)\n",
    "nvidia = get_prices('NVDA', start_date='2018-01-01', percent_change=True, index=True)"
   ]
  },
  {
   "cell_type": "code",
   "execution_count": 204,
   "metadata": {},
   "outputs": [
    {
     "data": {
      "text/html": [
       "<div>\n",
       "<style scoped>\n",
       "    .dataframe tbody tr th:only-of-type {\n",
       "        vertical-align: middle;\n",
       "    }\n",
       "\n",
       "    .dataframe tbody tr th {\n",
       "        vertical-align: top;\n",
       "    }\n",
       "\n",
       "    .dataframe thead th {\n",
       "        text-align: right;\n",
       "    }\n",
       "</style>\n",
       "<table border=\"1\" class=\"dataframe\">\n",
       "  <thead>\n",
       "    <tr style=\"text-align: right;\">\n",
       "      <th></th>\n",
       "      <th>Date</th>\n",
       "      <th>SNP_Returns</th>\n",
       "      <th>SNP_Volume</th>\n",
       "      <th>Dow_Returns</th>\n",
       "      <th>Dow_Volume</th>\n",
       "      <th>Vix_Returns</th>\n",
       "      <th>Gold_Returns</th>\n",
       "      <th>Gold_Volume</th>\n",
       "      <th>Oil_Returns</th>\n",
       "      <th>Oil_Volume</th>\n",
       "      <th>NVDA_Returns</th>\n",
       "      <th>NVDA_Volume</th>\n",
       "    </tr>\n",
       "  </thead>\n",
       "  <tbody>\n",
       "    <tr>\n",
       "      <th>2377</th>\n",
       "      <td>2024-07-06</td>\n",
       "      <td>0.000000</td>\n",
       "      <td>0.000000</td>\n",
       "      <td>0.000000</td>\n",
       "      <td>0.000000</td>\n",
       "      <td>0.000000</td>\n",
       "      <td>0.000000</td>\n",
       "      <td>0.000000</td>\n",
       "      <td>0.000000</td>\n",
       "      <td>0.000000</td>\n",
       "      <td>0.000000</td>\n",
       "      <td>0.000000</td>\n",
       "    </tr>\n",
       "    <tr>\n",
       "      <th>2378</th>\n",
       "      <td>2024-07-07</td>\n",
       "      <td>0.000000</td>\n",
       "      <td>0.000000</td>\n",
       "      <td>0.000000</td>\n",
       "      <td>0.000000</td>\n",
       "      <td>0.000000</td>\n",
       "      <td>0.000000</td>\n",
       "      <td>0.000000</td>\n",
       "      <td>0.000000</td>\n",
       "      <td>0.000000</td>\n",
       "      <td>0.000000</td>\n",
       "      <td>0.000000</td>\n",
       "    </tr>\n",
       "    <tr>\n",
       "      <th>2379</th>\n",
       "      <td>2024-07-08</td>\n",
       "      <td>0.001017</td>\n",
       "      <td>-0.020722</td>\n",
       "      <td>-0.000789</td>\n",
       "      <td>0.101743</td>\n",
       "      <td>-0.008814</td>\n",
       "      <td>-0.013942</td>\n",
       "      <td>-0.111111</td>\n",
       "      <td>-0.009981</td>\n",
       "      <td>-0.303254</td>\n",
       "      <td>0.018835</td>\n",
       "      <td>0.109725</td>\n",
       "    </tr>\n",
       "    <tr>\n",
       "      <th>2380</th>\n",
       "      <td>2024-07-09</td>\n",
       "      <td>0.000741</td>\n",
       "      <td>0.014832</td>\n",
       "      <td>-0.001342</td>\n",
       "      <td>0.008624</td>\n",
       "      <td>0.011318</td>\n",
       "      <td>0.002081</td>\n",
       "      <td>0.000000</td>\n",
       "      <td>-0.011175</td>\n",
       "      <td>0.000000</td>\n",
       "      <td>0.024805</td>\n",
       "      <td>0.200647</td>\n",
       "    </tr>\n",
       "  </tbody>\n",
       "</table>\n",
       "</div>"
      ],
      "text/plain": [
       "           Date  SNP_Returns  SNP_Volume  Dow_Returns  Dow_Volume  \\\n",
       "2377 2024-07-06     0.000000    0.000000     0.000000    0.000000   \n",
       "2378 2024-07-07     0.000000    0.000000     0.000000    0.000000   \n",
       "2379 2024-07-08     0.001017   -0.020722    -0.000789    0.101743   \n",
       "2380 2024-07-09     0.000741    0.014832    -0.001342    0.008624   \n",
       "\n",
       "      Vix_Returns  Gold_Returns  Gold_Volume  Oil_Returns  Oil_Volume  \\\n",
       "2377     0.000000      0.000000     0.000000     0.000000    0.000000   \n",
       "2378     0.000000      0.000000     0.000000     0.000000    0.000000   \n",
       "2379    -0.008814     -0.013942    -0.111111    -0.009981   -0.303254   \n",
       "2380     0.011318      0.002081     0.000000    -0.011175    0.000000   \n",
       "\n",
       "      NVDA_Returns  NVDA_Volume  \n",
       "2377      0.000000     0.000000  \n",
       "2378      0.000000     0.000000  \n",
       "2379      0.018835     0.109725  \n",
       "2380      0.024805     0.200647  "
      ]
     },
     "execution_count": 204,
     "metadata": {},
     "output_type": "execute_result"
    }
   ],
   "source": [
    "Index = pd.merge(snp, dow, on='Date')\n",
    "Index = pd.merge(Index, vix, on='Date')\n",
    "Index = pd.merge(Index, gold, on='Date')\n",
    "Index = pd.merge(Index, oil, on='Date')\n",
    "Index = pd.merge(Index, nvidia, on='Date')\n",
    "\n",
    "Index = Index.dropna()\n",
    "Index.tail(4)"
   ]
  },
  {
   "cell_type": "markdown",
   "metadata": {},
   "source": [
    "##### 2. GTRENDS AND WIKIPEDIA\n",
    "\n",
    "1. Wikipedia\n",
    "https://pageviews.wmcloud.org/?project=en.wikipedia.org&platform=all-access&agent=user&redirects=0&start=2018-01-01&end=2024-07-09&pages=Bitcoin|Solana|Ethereum|Cryptocurrency|Crypto|Blockchain#\n",
    "\n",
    "2. Google Trends\n",
    "https://trends.google.com/trends/explore?date=2024-01-01%202024-07-08&q=crypto&hl=en\n",
    "\n",
    "Weekly: https://trends.google.com/trends/explore?date=2018-01-01%202024-07-09&q=crypto&hl=en\n",
    "\n",
    "// Below code loads in all Google Trends Datasets, and the Wikipedia data set and merges them all together"
   ]
  },
  {
   "cell_type": "code",
   "execution_count": 205,
   "metadata": {},
   "outputs": [],
   "source": [
    "#Gtrends Data\n",
    "g_btc = pd.read_csv('data/raw/ext/btc_gtrends.csv', header=1)\n",
    "g_btc.rename(columns={'bitcoin: (Worldwide)': 'BTC_Gtrends'}, inplace=True)\n",
    "g_eth = pd.read_csv('data/raw/ext/eth_gtrends.csv', header=1)\n",
    "g_eth.rename(columns={'ethereum: (Worldwide)': 'ETH_Gtrends'}, inplace=True)\n",
    "g_sol = pd.read_csv('data/raw/ext/sol_gtrends.csv', header=1)\n",
    "g_sol.rename(columns={'solana: (Worldwide)': 'SOL_Gtrends'}, inplace=True)\n",
    "g_crypto = pd.read_csv('data/raw/ext/crypto_gtrends.csv', header=1)\n",
    "g_crypto.rename(columns={'crypto: (Worldwide)': 'Crypto_Gtrends'}, inplace=True)\n",
    "\n",
    "# Merging all trends data\n",
    "all_gtrends = pd.merge(g_btc, g_eth, on='Day')\n",
    "all_gtrends = pd.merge(all_gtrends, g_sol, on='Day')\n",
    "all_gtrends = pd.merge(all_gtrends, g_crypto, on='Day')\n",
    "all_gtrends['Total_Gtrends'] = all_gtrends.BTC_Gtrends + all_gtrends.ETH_Gtrends + all_gtrends.SOL_Gtrends + all_gtrends.Crypto_Gtrends\n",
    "all_gtrends = all_gtrends[['Day', 'Total_Gtrends']]"
   ]
  },
  {
   "cell_type": "code",
   "execution_count": 206,
   "metadata": {},
   "outputs": [
    {
     "name": "stdout",
     "output_type": "stream",
     "text": [
      "2024-01-02 00:00:00\n",
      "2024-07-08 00:00:00\n"
     ]
    }
   ],
   "source": [
    "# Wikipedia Data\n",
    "wp = pd.read_csv('data/raw/ext/wp.csv')\n",
    "wp['Total_WP'] = wp['Bitcoin'] + wp['Solana'] + wp['Ethereum'] + wp['Cryptocurrency'] + wp['Crypto'] + wp['Blockchain']\n",
    "wp = wp[['Date', 'Total_WP']]\n",
    "#Final External \n",
    "all_ext = pd.merge(wp, all_gtrends, left_on='Date', right_on='Day')\n",
    "all_ext.drop(['Day'], axis=1, inplace=True)\n",
    "all_ext\n",
    "\n",
    "# Apply percentage change to the columns\n",
    "all_ext = camel.convert_to_percentage_change(all_ext, 'Date')\n",
    "all_ext.Date = pd.to_datetime(all_ext.Date)\n",
    "#all_ext_pca = camel.pca_v2(all_ext, blacklist=['Date'], n_components=4, n_feat=7)\n",
    "all_ext_pca['Date'] = all_ext['Date'].reset_index(drop=True)\n",
    "all_ext.tail(4)\n",
    "print(all_ext.Date.min())\n",
    "print(all_ext.Date.max())"
   ]
  },
  {
   "cell_type": "markdown",
   "metadata": {},
   "source": [
    "##### 3. REDDIT SENTIMENT DATA\n",
    "\n",
    "--__ Extra: https://www.aaii.com/sentimentsurvey/sent_results -> weekly historic sentiment figures"
   ]
  },
  {
   "cell_type": "code",
   "execution_count": 105,
   "metadata": {},
   "outputs": [
    {
     "name": "stdout",
     "output_type": "stream",
     "text": [
      "Processing data...\n"
     ]
    },
    {
     "name": "stderr",
     "output_type": "stream",
     "text": [
      "Processing Title: 100%|██████████| 44568/44568 [02:29<00:00, 298.59it/s]\n",
      "Processing Body: 100%|██████████| 44568/44568 [06:42<00:00, 110.85it/s]\n",
      "Analyzing Sentiment: 100%|██████████| 44568/44568 [00:13<00:00, 3190.30it/s]"
     ]
    },
    {
     "name": "stdout",
     "output_type": "stream",
     "text": [
      "Overall weighted average sentiment score: 0.1399\n"
     ]
    },
    {
     "name": "stderr",
     "output_type": "stream",
     "text": [
      "\n"
     ]
    },
    {
     "data": {
      "text/html": [
       "<div>\n",
       "<style scoped>\n",
       "    .dataframe tbody tr th:only-of-type {\n",
       "        vertical-align: middle;\n",
       "    }\n",
       "\n",
       "    .dataframe tbody tr th {\n",
       "        vertical-align: top;\n",
       "    }\n",
       "\n",
       "    .dataframe thead th {\n",
       "        text-align: right;\n",
       "    }\n",
       "</style>\n",
       "<table border=\"1\" class=\"dataframe\">\n",
       "  <thead>\n",
       "    <tr style=\"text-align: right;\">\n",
       "      <th></th>\n",
       "      <th>date</th>\n",
       "      <th>weighted_mean_sentiment</th>\n",
       "      <th>unweighted_mean_sentiment</th>\n",
       "      <th>ups</th>\n",
       "    </tr>\n",
       "  </thead>\n",
       "  <tbody>\n",
       "    <tr>\n",
       "      <th>0</th>\n",
       "      <td>2019-07-26</td>\n",
       "      <td>-0.128000</td>\n",
       "      <td>-0.128000</td>\n",
       "      <td>100721</td>\n",
       "    </tr>\n",
       "    <tr>\n",
       "      <th>1</th>\n",
       "      <td>2019-07-27</td>\n",
       "      <td>-0.128000</td>\n",
       "      <td>-0.128000</td>\n",
       "      <td>13473</td>\n",
       "    </tr>\n",
       "    <tr>\n",
       "      <th>2</th>\n",
       "      <td>2023-06-09</td>\n",
       "      <td>0.717527</td>\n",
       "      <td>0.849829</td>\n",
       "      <td>3592</td>\n",
       "    </tr>\n",
       "    <tr>\n",
       "      <th>3</th>\n",
       "      <td>2023-09-06</td>\n",
       "      <td>0.999400</td>\n",
       "      <td>0.999400</td>\n",
       "      <td>2875</td>\n",
       "    </tr>\n",
       "    <tr>\n",
       "      <th>4</th>\n",
       "      <td>2024-01-03</td>\n",
       "      <td>-0.261867</td>\n",
       "      <td>-0.182417</td>\n",
       "      <td>6</td>\n",
       "    </tr>\n",
       "    <tr>\n",
       "      <th>...</th>\n",
       "      <td>...</td>\n",
       "      <td>...</td>\n",
       "      <td>...</td>\n",
       "      <td>...</td>\n",
       "    </tr>\n",
       "    <tr>\n",
       "      <th>163</th>\n",
       "      <td>2024-07-04</td>\n",
       "      <td>0.096209</td>\n",
       "      <td>0.211242</td>\n",
       "      <td>19861</td>\n",
       "    </tr>\n",
       "    <tr>\n",
       "      <th>164</th>\n",
       "      <td>2024-07-05</td>\n",
       "      <td>-0.055920</td>\n",
       "      <td>0.291212</td>\n",
       "      <td>20037</td>\n",
       "    </tr>\n",
       "    <tr>\n",
       "      <th>165</th>\n",
       "      <td>2024-07-06</td>\n",
       "      <td>0.365589</td>\n",
       "      <td>0.205016</td>\n",
       "      <td>11541</td>\n",
       "    </tr>\n",
       "    <tr>\n",
       "      <th>166</th>\n",
       "      <td>2024-07-07</td>\n",
       "      <td>0.233182</td>\n",
       "      <td>0.234392</td>\n",
       "      <td>5081</td>\n",
       "    </tr>\n",
       "    <tr>\n",
       "      <th>167</th>\n",
       "      <td>2024-07-08</td>\n",
       "      <td>0.468780</td>\n",
       "      <td>0.271206</td>\n",
       "      <td>1159</td>\n",
       "    </tr>\n",
       "  </tbody>\n",
       "</table>\n",
       "<p>168 rows × 4 columns</p>\n",
       "</div>"
      ],
      "text/plain": [
       "           date  weighted_mean_sentiment  unweighted_mean_sentiment     ups\n",
       "0    2019-07-26                -0.128000                  -0.128000  100721\n",
       "1    2019-07-27                -0.128000                  -0.128000   13473\n",
       "2    2023-06-09                 0.717527                   0.849829    3592\n",
       "3    2023-09-06                 0.999400                   0.999400    2875\n",
       "4    2024-01-03                -0.261867                  -0.182417       6\n",
       "..          ...                      ...                        ...     ...\n",
       "163  2024-07-04                 0.096209                   0.211242   19861\n",
       "164  2024-07-05                -0.055920                   0.291212   20037\n",
       "165  2024-07-06                 0.365589                   0.205016   11541\n",
       "166  2024-07-07                 0.233182                   0.234392    5081\n",
       "167  2024-07-08                 0.468780                   0.271206    1159\n",
       "\n",
       "[168 rows x 4 columns]"
      ]
     },
     "execution_count": 105,
     "metadata": {},
     "output_type": "execute_result"
    }
   ],
   "source": [
    "# Load in each dataset\n",
    "btc_reddit = pd.read_csv('data/raw/reddit/BTC_R.csv')\n",
    "eth_reddit = pd.read_csv('data/raw/reddit/ETH_R.csv')\n",
    "sol_reddit = pd.read_csv('data/raw/reddit/SOL_R.csv')\n",
    "\n",
    "#Merge\n",
    "all_reddit = pd.concat([btc_reddit, eth_reddit, sol_reddit])\n",
    "all_reddit.date_posted = pd.to_datetime(all_reddit.date_posted, utc=True)\n",
    "all_reddit['date_posted'] = all_reddit['date_posted'].dt.strftime('%m/%d/%Y')\n",
    "all_reddit.date_posted = pd.to_datetime(all_reddit.date_posted)\n",
    "\n",
    "all_reddit = sentiment_analyzer.main(all_reddit)\n",
    "all_reddit.to_csv('data/processed/all_reddit_sen.csv')\n",
    "all_reddit"
   ]
  },
  {
   "cell_type": "code",
   "execution_count": 207,
   "metadata": {},
   "outputs": [
    {
     "name": "stdout",
     "output_type": "stream",
     "text": [
      "2024-07-08 00:00:00\n",
      "2019-07-26 00:00:00\n"
     ]
    },
    {
     "data": {
      "image/png": "[encoded data removed]",
      "text/plain": [
       "<Figure size 640x480 with 1 Axes>"
      ]
     },
     "metadata": {},
     "output_type": "display_data"
    }
   ],
   "source": [
    "reddit_sen = pd.read_csv('data/processed/all_reddit_sen.csv').drop('Unnamed: 0', axis=1)\n",
    "reddit_sen.date = pd.to_datetime(reddit_sen.date)\n",
    "reddit_sen = reddit_sen.rename(columns={'date': 'Date'})\n",
    "plt.plot(reddit_sen.weighted_mean_sentiment)\n",
    "plt.title('Reddit Sentiment Analysis')\n",
    "print(reddit_sen.Date.max())\n",
    "print(reddit_sen.Date.min())"
   ]
  },
  {
   "cell_type": "markdown",
   "metadata": {},
   "source": [
    "##### 4. TVL"
   ]
  },
  {
   "cell_type": "code",
   "execution_count": 208,
   "metadata": {},
   "outputs": [
    {
     "data": {
      "text/html": [
       "<div>\n",
       "<style scoped>\n",
       "    .dataframe tbody tr th:only-of-type {\n",
       "        vertical-align: middle;\n",
       "    }\n",
       "\n",
       "    .dataframe tbody tr th {\n",
       "        vertical-align: top;\n",
       "    }\n",
       "\n",
       "    .dataframe thead th {\n",
       "        text-align: right;\n",
       "    }\n",
       "</style>\n",
       "<table border=\"1\" class=\"dataframe\">\n",
       "  <thead>\n",
       "    <tr style=\"text-align: right;\">\n",
       "      <th></th>\n",
       "      <th>Date</th>\n",
       "      <th>TVL</th>\n",
       "    </tr>\n",
       "  </thead>\n",
       "  <tbody>\n",
       "    <tr>\n",
       "      <th>1204</th>\n",
       "      <td>2024-07-08</td>\n",
       "      <td>-0.021147</td>\n",
       "    </tr>\n",
       "    <tr>\n",
       "      <th>1205</th>\n",
       "      <td>2024-07-09</td>\n",
       "      <td>-0.212120</td>\n",
       "    </tr>\n",
       "    <tr>\n",
       "      <th>1206</th>\n",
       "      <td>2024-07-10</td>\n",
       "      <td>0.017373</td>\n",
       "    </tr>\n",
       "    <tr>\n",
       "      <th>1207</th>\n",
       "      <td>2024-07-11</td>\n",
       "      <td>0.000000</td>\n",
       "    </tr>\n",
       "  </tbody>\n",
       "</table>\n",
       "</div>"
      ],
      "text/plain": [
       "           Date       TVL\n",
       "1204 2024-07-08 -0.021147\n",
       "1205 2024-07-09 -0.212120\n",
       "1206 2024-07-10  0.017373\n",
       "1207 2024-07-11  0.000000"
      ]
     },
     "execution_count": 208,
     "metadata": {},
     "output_type": "execute_result"
    }
   ],
   "source": [
    "btc_tvl = pd.read_csv('data/raw/tvl/btc_tvl.csv')\n",
    "eth_tvl = pd.read_csv('data/raw/tvl/eth_tvl.csv')\n",
    "sol_tvl = pd.read_csv('data/raw/tvl/sol_tvl.csv')\n",
    "\n",
    "def tvl_pro(df):\n",
    "    df = df[:1]\n",
    "    df = df.melt(var_name='Date', value_name='TVL')\n",
    "    df = df.drop(index=0).reset_index(drop=True)\n",
    "    df.Date = pd.to_datetime(df.Date, dayfirst=True)\n",
    "    return df\n",
    "\n",
    "btc_tvl, eth_tvl, sol_tvl = tvl_pro(btc_tvl), tvl_pro(eth_tvl), tvl_pro(sol_tvl)\n",
    "btc_tvl.TVL, eth_tvl.TVL, sol_tvl.TVL = btc_tvl['TVL'].pct_change(), eth_tvl['TVL'].pct_change(), sol_tvl['TVL'].pct_change()\n",
    "\n",
    "btc_tvl.tail(4)\n"
   ]
  },
  {
   "cell_type": "markdown",
   "metadata": {},
   "source": [
    "### **PROCESSING DATA**"
   ]
  },
  {
   "cell_type": "markdown",
   "metadata": {},
   "source": [
    "#### 1. TECHNICAL ANALYSIS & PCA\n",
    "\n",
    "**Input:** \n",
    "1. BTC, ETH, and SOL Price Data\n",
    "\n",
    "**Output:** \n",
    "1. Dataframe with all technical indicators for all cryptos condensed to 4 columns\n",
    "2. Seperate dataframe per crypto with its own Technical Indicators and Trend Determinisitc Technical Indicators\n"
   ]
  },
  {
   "cell_type": "code",
   "execution_count": 210,
   "metadata": {},
   "outputs": [],
   "source": [
    "# Make a copy of the dataframe to avoid modifying the original\n",
    "btc_1 = btc.copy()\n",
    "eth_1 = eth.copy()\n",
    "sol_1 = sol.copy()\n",
    "\n",
    "# Apply technical analysis\n",
    "btc_1 = camel.technical_analysis(btc, price_col = 'Close', hold_strat=False, only_td=True)\n",
    "eth_1 = camel.technical_analysis(eth, price_col = 'Close', hold_strat=False, only_td=True)\n",
    "sol_1 = camel.technical_analysis(sol_1, price_col = 'Close', hold_strat=False, only_td=True)"
   ]
  },
  {
   "cell_type": "markdown",
   "metadata": {},
   "source": [
    "##### Dimensionality Reduction"
   ]
  },
  {
   "cell_type": "code",
   "execution_count": null,
   "metadata": {},
   "outputs": [],
   "source": [
    "# Apply first PCA per dataset\n",
    "btc_pca = camel.pca_v2(btc_1, blacklist=['Date', 'Close'], n_components=4, n_feat=7, show_explained_variance = False, show_biplot=False)\n",
    "eth_pca = camel.pca_v2(eth_1, blacklist=['Date', 'Close'], n_components=4, n_feat=7, show_explained_variance = False, show_biplot=False)\n",
    "sol_pca = camel.pca_v2(sol_1, blacklist=['Date', 'Close'], n_components=4, n_feat=7, show_explained_variance = False, show_biplot=False)\n",
    "\n",
    "# Apply another round of PCA for combined database.\n",
    "btc_pca['Date'] = btc_1['Date'].reset_index(drop=True)\n",
    "eth_pca['Date'] = eth_1['Date'].reset_index(drop=True)\n",
    "sol_pca['Date'] = sol_1['Date'].reset_index(drop=True)\n",
    "\n",
    "#Merge all and add suffixes\n",
    "btc_pca = btc_pca.rename(columns={'PC1': 'PC1_btc', 'PC2': 'PC2_btc', 'PC3': 'PC3_btc', 'PC4': 'PC4_btc'})\n",
    "eth_pca = eth_pca.rename(columns={'PC1': 'PC1_eth', 'PC2': 'PC2_eth', 'PC3': 'PC3_eth', 'PC4': 'PC4_eth'})\n",
    "sol_pca = sol_pca.rename(columns={'PC1': 'PC1_sol', 'PC2': 'PC2_sol', 'PC3': 'PC3_sol', 'PC4': 'PC4_sol'})\n",
    "\n",
    "pca = pd.merge(btc_pca, eth_pca, on='Date')\n",
    "pca = pd.merge(pca, sol_pca, on='Date')\n",
    "\n",
    "pca = camel.pca_v2(pca, blacklist=['Date'], n_components=4, n_feat=7, show_explained_variance = False, show_biplot=False)\n",
    "## This dataset has full technical indicators compressed into 4 variables with 77% explained\n",
    "\n",
    "pca['Date'] = btc_1['Date'].reset_index(drop=True)\n",
    "\n",
    "pca"
   ]
  },
  {
   "cell_type": "markdown",
   "metadata": {},
   "source": [
    "#### Merging"
   ]
  },
  {
   "cell_type": "code",
   "execution_count": 212,
   "metadata": {},
   "outputs": [],
   "source": [
    "btc_m = pd.merge(btc_1, Index, on='Date')\n",
    "btc_m = pd.merge(btc_m, all_ext, on='Date')\n",
    "btc_m = pd.merge(btc_m, reddit_sen, on='Date')\n",
    "btc_m = pd.merge(btc_m, btc_tvl, on='Date')\n",
    "\n",
    "eth_m = pd.merge(eth_1, Index, on='Date')\n",
    "eth_m = pd.merge(eth_m, all_ext, on='Date')\n",
    "eth_m = pd.merge(eth_m, reddit_sen, on='Date')\n",
    "eth_m = pd.merge(eth_m, eth_tvl, on='Date')\n",
    "\n",
    "sol_m = pd.merge(sol_1, Index, on='Date')\n",
    "sol_m = pd.merge(sol_m, all_ext, on='Date')\n",
    "sol_m = pd.merge(sol_m, reddit_sen, on='Date')\n",
    "sol_m = pd.merge(sol_m, sol_tvl, on='Date')\n",
    "\n",
    "btc_m = camel.thesis_dv(btc_m, hold_strat=False)\n",
    "btc_m.to_csv('data/processed/camel_v3_btc.csv')\n",
    "\n",
    "eth_m = camel.thesis_dv(eth_m, hold_strat=False)\n",
    "eth_m.to_csv('data/processed/camel_v3_eth.csv')\n",
    "\n",
    "sol_m = camel.thesis_dv(sol_m, hold_strat=False)\n",
    "sol_m.to_csv('data/processed/camel_v3_sol.csv')"
   ]
  }
 ],
 "metadata": {
  "kernelspec": {
   "display_name": "Python 3",
   "language": "python",
   "name": "python3"
  },
  "language_info": {
   "codemirror_mode": {
    "name": "ipython",
    "version": 3
   },
   "file_extension": ".py",
   "mimetype": "text/x-python",
   "name": "python",
   "nbconvert_exporter": "python",
   "pygments_lexer": "ipython3",
   "version": "3.10.11"
  }
 },
 "nbformat": 4,
 "nbformat_minor": 2
}
